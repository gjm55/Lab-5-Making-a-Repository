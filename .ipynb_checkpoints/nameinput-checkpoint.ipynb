{
 "cells": [
  {
   "cell_type": "code",
   "execution_count": null,
   "source": [
    "#This looks good, nothing needs changed.\n",
    "\n",
    "myAge = 19\n",
    "userName = input(\"What is your name?\")\n",
    "print(\"Hello,\", userName)\n",
    "userAge = int(input(\"What is your age?\"))\n",
    "if userAge == 19:\n",
    "    print(\"You are the same age as me,\", userName)\n",
    "elif userAge > myAge:\n",
    "    print(\"You are older than me,\", userName)\n",
    "elif userAge < myAge:\n",
    "    print(\"You are younger than me,\", userName)\n"
   ],
   "outputs": [],
   "metadata": {}
  }
 ],
 "metadata": {
  "kernelspec": {
   "display_name": "Python 3",
   "language": "python",
   "name": "python3"
  },
  "language_info": {
   "codemirror_mode": {
    "name": "ipython",
    "version": 3
   },
   "file_extension": ".py",
   "mimetype": "text/x-python",
   "name": "python",
   "nbconvert_exporter": "python",
   "pygments_lexer": "ipython3",
   "version": "3.8.3"
  }
 },
 "nbformat": 4,
 "nbformat_minor": 4
}
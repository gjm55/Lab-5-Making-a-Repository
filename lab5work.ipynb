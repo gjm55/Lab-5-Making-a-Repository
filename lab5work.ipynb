Last login: Wed Oct 13 14:21:29 on ttys000
gabrielle@Gabrielles-MacBook-Pro ~ % pwd
/Users/gabrielle
gabrielle@Gabrielles-MacBook-Pro ~ % cd lab5work.ipynb
cd: no such file or directory: lab5work.ipynb
gabrielle@Gabrielles-MacBook-Pro ~ % git clone https://github.com/gjm55/Lab-5-Making-a-Repository.git
fatal: destination path 'Lab-5-Making-a-Repository' already exists and is not an empty directory.
gabrielle@Gabrielles-MacBook-Pro ~ % ls
Desktop				Music
Documents			Pictures
Downloads			Public
Lab-5-Making-a-Repository	ls
Library				mu_code
Movies
gabrielle@Gabrielles-MacBook-Pro ~ % pwd
/Users/gabrielle
gabrielle@Gabrielles-MacBook-Pro ~ % cd Lab-5-Making-a-Repository
gabrielle@Gabrielles-MacBook-Pro Lab-5-Making-a-Repository % git add lab5work.ipynb
fatal: pathspec 'lab5work.ipynb' did not match any files
gabrielle@Gabrielles-MacBook-Pro Lab-5-Making-a-Repository % git add "lab5work.ipynb"
fatal: pathspec 'lab5work.ipynb' did not match any files
gabrielle@Gabrielles-MacBook-Pro Lab-5-Making-a-Repository % ls
README.md
gabrielle@Gabrielles-MacBook-Pro Lab-5-Making-a-Repository % cat lab5work.ipynb
cat: lab5work.ipynb: No such file or directory
gabrielle@Gabrielles-MacBook-Pro Lab-5-Making-a-Repository % nano lab5work.ipynb

  GNU nano 2.0.6            File: lab5work.ipynb                      Modified  

import random
how_many_integers = int(input("How many integers do you want to use? "))
lower_bound = int(input("What do you want the lower bound to be? "))
upper_bound = int(input("What do you want the upper bound to be? "))

x = 0
while x < how_many_integers:
    n = random.randint(lower_bound, upper_bound)
    print(n)
    x = x + 1










^G Get Help  ^O WriteOut  ^R Read File ^Y Prev Page ^K Cut Text  ^C Cur Pos
^X Exit      ^J Justify   ^W Where Is  ^V Next Page ^U UnCut Text^T To Spell

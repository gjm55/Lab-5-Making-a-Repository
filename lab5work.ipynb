import random
how_many_integers = int(input("How many integers do you want to use? "))
lower_bound = int(input("What do you want the lower bound to be? "))
upper_bound = int(input("What do you want the upper bound to be? "))

x = 0
while x < how_many_integers:
    n = random.randint(lower_bound, upper_bound)
    print(n)
    x = x + 1

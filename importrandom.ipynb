{
 "cells": [
  {
   "cell_type": "code",
   "execution_count": null,
   "metadata": {},
   "outputs": [],
   "source": [
    "import random\n",
    "how_many_integers = int(input(\"How many integers do you want to use? \"))\n",
    "lower_bound = int(input(\"What do you want the lower bound to be? \"))\n",
    "upper_bound = int(input(\"What do you want the upper bound to be? \"))\n",
    "\n",
    "x = 0\n",
    "while x < how_many_integers:\n",
    "    n = random.randint(lower_bound, upper_bound)\n",
    "    print(n)\n",
    "    x = x + 1"
   ]
  }
 ],
 "metadata": {
  "kernelspec": {
   "display_name": "Python 3",
   "language": "python",
   "name": "python3"
  },
  "language_info": {
   "codemirror_mode": {
    "name": "ipython",
    "version": 3
   },
   "file_extension": ".py",
   "mimetype": "text/x-python",
   "name": "python",
   "nbconvert_exporter": "python",
   "pygments_lexer": "ipython3",
   "version": "3.8.3"
  }
 },
 "nbformat": 4,
 "nbformat_minor": 4
}
